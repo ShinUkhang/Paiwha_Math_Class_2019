{
 "cells": [
  {
   "cell_type": "markdown",
   "metadata": {},
   "source": [
    "# 1. n번째 줄을 만들기"
   ]
  },
  {
   "cell_type": "code",
   "execution_count": 5,
   "metadata": {},
   "outputs": [
    {
     "name": "stdout",
     "output_type": "stream",
     "text": [
      "n을 입력하세요2\n",
      "[1, 2, 1]\n"
     ]
    }
   ],
   "source": [
    "from sympy import *\n",
    "\n",
    "n= int(input(\"n을 입력하세요\"))\n",
    "\n",
    "line=[]\n",
    "for i in range(n+1):\n",
    "    comb=factorial(n)/(factorial(i)*factorial(n-i))\n",
    "    line.append(comb)\n",
    "print(line)\n",
    "    "
   ]
  },
  {
   "cell_type": "markdown",
   "metadata": {},
   "source": [
    "# 2. 삼각형을 표현하기(1)"
   ]
  },
  {
   "cell_type": "code",
   "execution_count": 8,
   "metadata": {},
   "outputs": [
    {
     "name": "stdout",
     "output_type": "stream",
     "text": [
      "n을 입력하세요10\n",
      "[1]\n",
      "[1, 1]\n",
      "[1, 2, 1]\n",
      "[1, 3, 3, 1]\n",
      "[1, 4, 6, 4, 1]\n",
      "[1, 5, 10, 10, 5, 1]\n",
      "[1, 6, 15, 20, 15, 6, 1]\n",
      "[1, 7, 21, 35, 35, 21, 7, 1]\n",
      "[1, 8, 28, 56, 70, 56, 28, 8, 1]\n",
      "[1, 9, 36, 84, 126, 126, 84, 36, 9, 1]\n",
      "[1, 10, 45, 120, 210, 252, 210, 120, 45, 10, 1]\n"
     ]
    }
   ],
   "source": [
    "from sympy import *\n",
    "\n",
    "size= int(input(\"n을 입력하세요\"))\n",
    "\n",
    "\n",
    "for n in range(0,size+1):\n",
    "    line=[]\n",
    "    for r in range(n+1):\n",
    "        comb=factorial(n)/(factorial(r)*factorial(n-r))\n",
    "        line.append(comb)\n",
    "    print(line)\n",
    "    "
   ]
  },
  {
   "cell_type": "markdown",
   "metadata": {},
   "source": [
    "# 3.삼각형을 표현하기(2)"
   ]
  },
  {
   "cell_type": "code",
   "execution_count": 35,
   "metadata": {},
   "outputs": [
    {
     "name": "stdout",
     "output_type": "stream",
     "text": [
      "n을 입력하세요10\n",
      "    1\n",
      "    1    1\n",
      "    1    2    1\n",
      "    1    3    3    1\n",
      "    1    4    6    4    1\n",
      "    1    5   10   10    5    1\n",
      "    1    6   15   20   15    6    1\n",
      "    1    7   21   35   35   21    7    1\n",
      "    1    8   28   56   70   56   28    8    1\n",
      "    1    9   36   84  126  126   84   36    9    1\n",
      "    1   10   45  120  210  252  210  120   45   10    1\n"
     ]
    }
   ],
   "source": [
    "from sympy import *\n",
    "\n",
    "size= int(input(\"n을 입력하세요\"))\n",
    "\n",
    "\n",
    "for n in range(0,size+1):\n",
    "    for r in range(n+1):\n",
    "        comb=factorial(n)/(factorial(r)*factorial(n-r))\n",
    "        print(str(comb).rjust(5),end='')\n",
    "    \n",
    "    print()\n"
   ]
  },
  {
   "cell_type": "markdown",
   "metadata": {},
   "source": [
    "# 4. 삼각형을 표현하기(3)"
   ]
  },
  {
   "cell_type": "code",
   "execution_count": 43,
   "metadata": {},
   "outputs": [
    {
     "name": "stdout",
     "output_type": "stream",
     "text": [
      "n을 입력하세요10\n",
      "    1    1\n",
      "    1    1    2\n",
      "    1    2    1    4\n",
      "    1    3    3    1    8\n",
      "    1    4    6    4    1   16\n",
      "    1    5   10   10    5    1   32\n",
      "    1    6   15   20   15    6    1   64\n",
      "    1    7   21   35   35   21    7    1  128\n",
      "    1    8   28   56   70   56   28    8    1  256\n",
      "    1    9   36   84  126  126   84   36    9    1  512\n",
      "    1   10   45  120  210  252  210  120   45   10    1  1024\n"
     ]
    }
   ],
   "source": [
    "from sympy import *\n",
    "import numpy as np\n",
    "\n",
    "size= int(input(\"n을 입력하세요\"))\n",
    "\n",
    "for n in range(0,size+1):\n",
    "    list=[]\n",
    "    for r in range(n+1):\n",
    "        comb=factorial(n)/(factorial(r)*factorial(n-r))\n",
    "        print(str(comb).rjust(5),end='')\n",
    "        list.append(comb)\n",
    "    linesum=np.sum(list)\n",
    "    print('  ',end='')\n",
    "    print(str(linesum).rjust(3),end='')\n",
    "    print()\n"
   ]
  },
  {
   "cell_type": "markdown",
   "metadata": {},
   "source": [
    "# 5. 시어핀스키로의 도전"
   ]
  },
  {
   "cell_type": "code",
   "execution_count": 51,
   "metadata": {},
   "outputs": [
    {
     "name": "stdout",
     "output_type": "stream",
     "text": [
      "n을 입력하세요10\n",
      " 1\n",
      " 1 1\n",
      " 1 2 1\n",
      " 1 0 0 1\n",
      " 1 1 0 1 1\n",
      " 1 2 1 1 2 1\n",
      " 1 0 0 2 0 0 1\n",
      " 1 1 0 2 2 0 1 1\n",
      " 1 2 1 2 1 2 1 2 1\n",
      " 1 0 0 0 0 0 0 0 0 1\n",
      " 1 1 0 0 0 0 0 0 0 1 1\n"
     ]
    }
   ],
   "source": [
    "from sympy import *\n",
    "import numpy as np\n",
    "\n",
    "size= int(input(\"n을 입력하세요\"))\n",
    "\n",
    "for n in range(0,size+1):\n",
    "    for r in range(n+1):\n",
    "        comb=factorial(n)/(factorial(r)*factorial(n-r))\n",
    "        comb=comb%3\n",
    "        print(str(comb).rjust(2),end='')\n",
    "        \n",
    "    print()\n"
   ]
  },
  {
   "cell_type": "code",
   "execution_count": null,
   "metadata": {},
   "outputs": [],
   "source": []
  }
 ],
 "metadata": {
  "kernelspec": {
   "display_name": "Python 3",
   "language": "python",
   "name": "python3"
  },
  "language_info": {
   "codemirror_mode": {
    "name": "ipython",
    "version": 3
   },
   "file_extension": ".py",
   "mimetype": "text/x-python",
   "name": "python",
   "nbconvert_exporter": "python",
   "pygments_lexer": "ipython3",
   "version": "3.6.5"
  }
 },
 "nbformat": 4,
 "nbformat_minor": 2
}
